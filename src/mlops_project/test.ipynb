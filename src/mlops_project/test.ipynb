{
 "cells": [
  {
   "cell_type": "code",
   "execution_count": 2,
   "metadata": {},
   "outputs": [],
   "source": [
    "from contextlib import asynccontextmanager\n",
    "from fastapi import FastAPI, File, UploadFile, HTTPException\n",
    "from fastapi.responses import JSONResponse\n",
    "from PIL import Image\n",
    "import torch\n",
    "import torchvision.transforms as transforms\n",
    "from google.cloud import storage\n",
    "import io\n",
    "from model import ResNet18\n",
    "import os"
   ]
  },
  {
   "cell_type": "code",
   "execution_count": 12,
   "metadata": {},
   "outputs": [],
   "source": [
    "def upload_to_gcp_bucket(bucket_name, source_file_name, destination_blob_name, key_file):\n",
    "    \"\"\"\n",
    "    上传文件到 GCP 的 Cloud Storage。\n",
    "    :param bucket_name: GCP 存储桶的名称。\n",
    "    :param source_file_name: 本地文件路径。\n",
    "    :param destination_blob_name: 存储到存储桶中的目标文件路径。\n",
    "    :param key_file: 服务账号的密钥文件路径。\n",
    "    \"\"\"\n",
    "    # 设置 Google Cloud 的认证环境变量\n",
    "    os.environ['GOOGLE_APPLICATION_CREDENTIALS'] = key_file\n",
    "\n",
    "    # 初始化存储客户端\n",
    "    storage_client = storage.Client()\n",
    "    bucket = storage_client.bucket(bucket_name)\n",
    "    blob = bucket.blob(destination_blob_name)\n",
    "\n",
    "    # 上传文件\n",
    "    blob.upload_from_filename(source_file_name)\n",
    "    print(f\"File {source_file_name} uploaded to {destination_blob_name}.\")"
   ]
  },
  {
   "cell_type": "code",
   "execution_count": 20,
   "metadata": {},
   "outputs": [
    {
     "name": "stdout",
     "output_type": "stream",
     "text": [
      "File /home/linzhu/MLOps-project/MLOps/models/model.pth uploaded to models/model.pth.\n"
     ]
    }
   ],
   "source": [
    "project_root = os.path.abspath(os.path.join(os.path.dirname(\"__file__\"), \"../../\"))\n",
    "\n",
    "bucket_name = \"mlops-trained-models\"  # 替换为你的存储桶名称\n",
    "source_file_name =  os.path.join(project_root, \"models/model.pth\")  # 替换为模型文件的本地路径\n",
    "destination_blob_name = \"models/model.pth\"  # 替换为存储路径\n",
    "key_file = os.path.join(project_root, \"keys/mlops-groupwork-7a024d65ea13.json\")   # 服务账号密钥文件的路径\n",
    "upload_to_gcp_bucket(bucket_name, source_file_name, destination_blob_name, key_file)"
   ]
  },
  {
   "cell_type": "code",
   "execution_count": null,
   "metadata": {},
   "outputs": [],
   "source": [
    "'''\n",
    "Read the image\n",
    "'''\n",
    "image_bytes = await file.read()\n",
    "image = Image.open(io.BytesIO(image_bytes)).convert('RGB')\n",
    "\n",
    "\n",
    "'''\n",
    "process the image and make predictions\n",
    "'''\n",
    "input_tensor = preprocess_image(image) \n",
    "with torch.no_grad():\n",
    "    outputs = model(input_tensor)\n",
    "    probs = torch.sigmoid(outputs).squeeze().item()\n",
    "category = \"hotdog\" if probs > 0.5 else \"not hotdog\"\n",
    "\n",
    "return JSONResponse({\n",
    "    'probabilities': float(probs),\n",
    "    'category': category\n",
    "})"
   ]
  }
 ],
 "metadata": {
  "kernelspec": {
   "display_name": "mlops",
   "language": "python",
   "name": "python3"
  },
  "language_info": {
   "codemirror_mode": {
    "name": "ipython",
    "version": 3
   },
   "file_extension": ".py",
   "mimetype": "text/x-python",
   "name": "python",
   "nbconvert_exporter": "python",
   "pygments_lexer": "ipython3",
   "version": "3.12.4"
  }
 },
 "nbformat": 4,
 "nbformat_minor": 2
}
